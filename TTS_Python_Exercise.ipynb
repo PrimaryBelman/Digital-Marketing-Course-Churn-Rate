{
 "cells": [
  {
   "cell_type": "code",
   "execution_count": 1,
   "id": "8f10644d",
   "metadata": {
    "scrolled": true
   },
   "outputs": [
    {
     "name": "stdout",
     "output_type": "stream",
     "text": [
      "What country are you from?India\n",
      "I have heard that India is a beautiful country!\n"
     ]
    }
   ],
   "source": [
    "#1\n",
    "User_response=input(\"What country are you from?\")\n",
    "print(\"I have heard that \"+User_response+\" is a beautiful country!\")"
   ]
  },
  {
   "cell_type": "code",
   "execution_count": 3,
   "id": "34afcb73",
   "metadata": {},
   "outputs": [
    {
     "name": "stdout",
     "output_type": "stream",
     "text": [
      "10 50\n"
     ]
    }
   ],
   "source": [
    "#2\n",
    "x=10\n",
    "y=50\n",
    "if(x**3>100 and y<100):\n",
    "    print(x,y)"
   ]
  },
  {
   "cell_type": "code",
   "execution_count": 5,
   "id": "c3b57f12",
   "metadata": {
    "scrolled": true
   },
   "outputs": [
    {
     "name": "stdout",
     "output_type": "stream",
     "text": [
      "2\n"
     ]
    }
   ],
   "source": [
    "#3\n",
    "print(2%6)"
   ]
  },
  {
   "cell_type": "markdown",
   "id": "b2efcdec",
   "metadata": {},
   "source": [
    "the operator used here is modulus operator and results in the remainder of the division."
   ]
  },
  {
   "cell_type": "code",
   "execution_count": 6,
   "id": "c9f083c7",
   "metadata": {
    "scrolled": true
   },
   "outputs": [
    {
     "name": "stdout",
     "output_type": "stream",
     "text": [
      "216\n"
     ]
    }
   ],
   "source": [
    "#4\n",
    "print(2*3**3*4)"
   ]
  },
  {
   "cell_type": "markdown",
   "id": "67a649ec",
   "metadata": {},
   "source": [
    "#5. Python is a popular object oriented and functional programming language that promotes readability(due to similarities with English language). It is used in web-development, Machine Learning and Big Data etc."
   ]
  }
 ],
 "metadata": {
  "kernelspec": {
   "display_name": "Python 3 (ipykernel)",
   "language": "python",
   "name": "python3"
  },
  "language_info": {
   "codemirror_mode": {
    "name": "ipython",
    "version": 3
   },
   "file_extension": ".py",
   "mimetype": "text/x-python",
   "name": "python",
   "nbconvert_exporter": "python",
   "pygments_lexer": "ipython3",
   "version": "3.9.13"
  }
 },
 "nbformat": 4,
 "nbformat_minor": 5
}
